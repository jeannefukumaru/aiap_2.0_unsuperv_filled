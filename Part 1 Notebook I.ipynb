{
 "cells": [
  {
   "cell_type": "markdown",
   "metadata": {},
   "source": [
    "# Overview of Week 3"
   ]
  },
  {
   "cell_type": "markdown",
   "metadata": {},
   "source": [
    "This week's assignment consists of two parts. The first part gives you an introduction to unsupervised learning. In particular, we focus on techniques for clustering and dimensionality reduction and how they can be applied to ecommerce data. As you work through the three clustering case studies, you will find yourself generating many intermediate datasets, trying different models, and tuning each model as you go along. There's a lot to keep track of.   \n",
    "\n",
    "This is where Part 2 comes in. It is in Part 2 that we introduce ideas of **workflow management** and **computational reproducibility**. Workflow management means organising your project directory to manage your analysis' artefacts (visualisations, processed datasets, notebooks and utility functions and experiment results). Ideally, your code for these should be clearly commented with well chosen names. Computational reproducibility means someone else (including future you!) being able to take just the code and data, and reproduce your project, from its results and models to visualisations etc. How one decides to practice workflow management and computational reproducibility can be quite a personal decision. Therefore, we provide guidelines, not rules. The most important is having a system rather than no system at all. \n",
    "\n",
    "**note about the week**   \n",
    "While week 1's assignment was guided, with specific instructions about what code to run, as we move on the assignments will involve less hand-holding. For this week, we include some instructions, but leave the specific implementations up to you. There are also many techniques we cover. Again, while we share some resources, we leave the bulk of the research and background reading up to you to manage for yourself. As a record of how well you have synthesised your readings, this notebook has space for writing a few paragraphs of explanations. We hope you won't be content with a shallow explanation, and that you use this space to apply the [Feynmann technique](https://collegeinfogeek.com/feynman-technique/) as a check of understanding. \n",
    "\n",
    "To tie Part 1 and Part 2 of the week together, we are not just asking for one Jupyter Notebook as a final deliverable. Instead, there are four deliverables to the week: \n",
    "\n",
    "**1. Part 1 Notebook I and II exercises presented at the end of the week job-interview style**\n",
    "\n",
    "**2. A script that automates the data cleaning and feature engineering steps you take so your findings are reproducible (see Part 2 Notebook I for more info)**\n",
    "\n",
    "**3. A repo README.md (see Part 2 Notebook I for more info)**\n",
    "\n",
    "**4  A record of software package versions and software environment used (see Part 2 Notebook I for more info)**   \n",
    "\n",
    "**recap of the objectives for the first 6 weeks:**  \n",
    "We aim to broadly cover a wide range of Machine Learning algorithms so that you can: \n",
    "- handle the technical demands of a 100E given some guidance on the right direction to take \n",
    "- can handle a technical job interview and get hired \n",
    "\n",
    "*materials for unsupervised learning adapted from William Thji* "
   ]
  },
  {
   "cell_type": "markdown",
   "metadata": {},
   "source": [
    "# Part I : Unsupervised Learning \n",
    "Unsupervised Learning refers to a set of machine learning techniques where no output variables (Y) are given. Only the input variables (X) are available and our job is to find patterns in X. You may read more about it from *pg 485 from Hastie and Tibshirani's Elements of Statistical Learning* available [here](https://web.stanford.edu/~hastie/Papers/ESLII.pdf). \n",
    "\n",
    "ESL by Hastie et. al with be the primary reference for this week, although feel free to source for your own books and links. "
   ]
  },
  {
   "cell_type": "markdown",
   "metadata": {},
   "source": [
    "## Short introduction to clustering \n",
    "Clustering puts datapoints into subsets so that datapoints within a cluster are more closely related to one another compared to datapoints in another cluster. More information is available from page 501 of *Elements of Statistical Learning*. \n",
    "\n",
    "Some quick points: \n",
    "- Clustering is extremely useful to many fields: \n",
    "    - Customer segmentation for personalised product recommendations\n",
    "    - Topic identification to relieve the need to manually vet documents \n",
    "    - Image or geo-spatial segmentation to optimised supply and demand (Gojek does this) \n",
    "    - and maybe most importantly, getting a sense of the data before starting to model it. \n",
    "\n",
    "- Some examples of clustering algorithms: \n",
    "    - KMeans\n",
    "    - Gaussian Mixture Models for drawing soft clustering boundaries instead of hard ones \n",
    "    - Hierarchical clustering\n",
    "    - DBScan for density-based clustering for anomaly detection \n",
    "    - Co-clustering\n",
    "    - Biclustering for analysing genes"
   ]
  },
  {
   "cell_type": "markdown",
   "metadata": {},
   "source": [
    "## Deliverable 1: Complete the Clustering Case Study: Using PCA and clustering to uncover customer segments \n",
    "Context: The dataset we will be working with contains ecommerce transactions from a UK-based online retails store. The dataset is available on [Kaggle](https://www.kaggle.com/carrie1/ecommerce-data/home) or the UCI Machine Learning Repository. The dataset is quite small, so we have also included it inside the `data` folder inside this repo as `data/raw/data.csv`. \n",
    "\n",
    "From the Kaggle website: \n",
    "\n",
    "\"This is a transnational data set which contains all the transactions occurring between 01/12/2010 and 09/12/2011 for a UK-based and registered non-store online retail.The company mainly sells unique all-occasion gifts. Many customers of the company are wholesalers.\"\n",
    "\n",
    "### Case Study Goal \n",
    "Cluster the dataset into meaningful customer segments. This means creating clusters that are statistically robust and that make business sense. \n"
   ]
  },
  {
   "cell_type": "code",
   "execution_count": 10,
   "metadata": {},
   "outputs": [
    {
     "data": {
      "text/html": [
       "<div>\n",
       "<style scoped>\n",
       "    .dataframe tbody tr th:only-of-type {\n",
       "        vertical-align: middle;\n",
       "    }\n",
       "\n",
       "    .dataframe tbody tr th {\n",
       "        vertical-align: top;\n",
       "    }\n",
       "\n",
       "    .dataframe thead th {\n",
       "        text-align: right;\n",
       "    }\n",
       "</style>\n",
       "<table border=\"1\" class=\"dataframe\">\n",
       "  <thead>\n",
       "    <tr style=\"text-align: right;\">\n",
       "      <th></th>\n",
       "      <th>InvoiceNo</th>\n",
       "      <th>StockCode</th>\n",
       "      <th>Description</th>\n",
       "      <th>Quantity</th>\n",
       "      <th>InvoiceDate</th>\n",
       "      <th>UnitPrice</th>\n",
       "      <th>CustomerID</th>\n",
       "      <th>Country</th>\n",
       "    </tr>\n",
       "  </thead>\n",
       "  <tbody>\n",
       "    <tr>\n",
       "      <th>0</th>\n",
       "      <td>536365</td>\n",
       "      <td>85123A</td>\n",
       "      <td>WHITE HANGING HEART T-LIGHT HOLDER</td>\n",
       "      <td>6</td>\n",
       "      <td>12/1/2010 8:26</td>\n",
       "      <td>2.55</td>\n",
       "      <td>17850.0</td>\n",
       "      <td>United Kingdom</td>\n",
       "    </tr>\n",
       "    <tr>\n",
       "      <th>1</th>\n",
       "      <td>536365</td>\n",
       "      <td>71053</td>\n",
       "      <td>WHITE METAL LANTERN</td>\n",
       "      <td>6</td>\n",
       "      <td>12/1/2010 8:26</td>\n",
       "      <td>3.39</td>\n",
       "      <td>17850.0</td>\n",
       "      <td>United Kingdom</td>\n",
       "    </tr>\n",
       "    <tr>\n",
       "      <th>2</th>\n",
       "      <td>536365</td>\n",
       "      <td>84406B</td>\n",
       "      <td>CREAM CUPID HEARTS COAT HANGER</td>\n",
       "      <td>8</td>\n",
       "      <td>12/1/2010 8:26</td>\n",
       "      <td>2.75</td>\n",
       "      <td>17850.0</td>\n",
       "      <td>United Kingdom</td>\n",
       "    </tr>\n",
       "    <tr>\n",
       "      <th>3</th>\n",
       "      <td>536365</td>\n",
       "      <td>84029G</td>\n",
       "      <td>KNITTED UNION FLAG HOT WATER BOTTLE</td>\n",
       "      <td>6</td>\n",
       "      <td>12/1/2010 8:26</td>\n",
       "      <td>3.39</td>\n",
       "      <td>17850.0</td>\n",
       "      <td>United Kingdom</td>\n",
       "    </tr>\n",
       "    <tr>\n",
       "      <th>4</th>\n",
       "      <td>536365</td>\n",
       "      <td>84029E</td>\n",
       "      <td>RED WOOLLY HOTTIE WHITE HEART.</td>\n",
       "      <td>6</td>\n",
       "      <td>12/1/2010 8:26</td>\n",
       "      <td>3.39</td>\n",
       "      <td>17850.0</td>\n",
       "      <td>United Kingdom</td>\n",
       "    </tr>\n",
       "  </tbody>\n",
       "</table>\n",
       "</div>"
      ],
      "text/plain": [
       "  InvoiceNo StockCode                          Description  Quantity  \\\n",
       "0    536365    85123A   WHITE HANGING HEART T-LIGHT HOLDER         6   \n",
       "1    536365     71053                  WHITE METAL LANTERN         6   \n",
       "2    536365    84406B       CREAM CUPID HEARTS COAT HANGER         8   \n",
       "3    536365    84029G  KNITTED UNION FLAG HOT WATER BOTTLE         6   \n",
       "4    536365    84029E       RED WOOLLY HOTTIE WHITE HEART.         6   \n",
       "\n",
       "      InvoiceDate  UnitPrice  CustomerID         Country  \n",
       "0  12/1/2010 8:26       2.55     17850.0  United Kingdom  \n",
       "1  12/1/2010 8:26       3.39     17850.0  United Kingdom  \n",
       "2  12/1/2010 8:26       2.75     17850.0  United Kingdom  \n",
       "3  12/1/2010 8:26       3.39     17850.0  United Kingdom  \n",
       "4  12/1/2010 8:26       3.39     17850.0  United Kingdom  "
      ]
     },
     "execution_count": 10,
     "metadata": {},
     "output_type": "execute_result"
    }
   ],
   "source": [
    "import pandas as pd \n",
    "df = pd.read_csv('data/raw/data.csv', encoding='ISO-8859-1')\n",
    "df.head()"
   ]
  },
  {
   "cell_type": "code",
   "execution_count": 11,
   "metadata": {},
   "outputs": [
    {
     "name": "stdout",
     "output_type": "stream",
     "text": [
      "<class 'pandas.core.frame.DataFrame'>\n",
      "RangeIndex: 541909 entries, 0 to 541908\n",
      "Data columns (total 8 columns):\n",
      "InvoiceNo      541909 non-null object\n",
      "StockCode      541909 non-null object\n",
      "Description    540455 non-null object\n",
      "Quantity       541909 non-null int64\n",
      "InvoiceDate    541909 non-null object\n",
      "UnitPrice      541909 non-null float64\n",
      "CustomerID     406829 non-null float64\n",
      "Country        541909 non-null object\n",
      "dtypes: float64(2), int64(1), object(5)\n",
      "memory usage: 33.1+ MB\n"
     ]
    }
   ],
   "source": [
    "df.info()"
   ]
  },
  {
   "cell_type": "markdown",
   "metadata": {},
   "source": [
    "### Cleaning data \n",
    "\n",
    "Some data types are muddled, there are duplicates, NA values and unreasonable values hiding in the columns \n",
    "\n",
    "1. Clean the dataset. You may want to list the steps taken to clean the data and encapsulate the steps inside their own functions so they can be reused. Organise the functions into their own library"
   ]
  },
  {
   "cell_type": "code",
   "execution_count": 12,
   "metadata": {},
   "outputs": [],
   "source": [
    "from src.utils import Preprocess\n",
    "preprocess = Preprocess()"
   ]
  },
  {
   "cell_type": "code",
   "execution_count": 13,
   "metadata": {},
   "outputs": [
    {
     "name": "stdout",
     "output_type": "stream",
     "text": [
      "<class 'pandas.core.frame.DataFrame'>\n",
      "Int64Index: 397924 entries, 0 to 541908\n",
      "Data columns (total 9 columns):\n",
      "InvoiceNo      397924 non-null object\n",
      "StockCode      397924 non-null object\n",
      "Description    397924 non-null object\n",
      "Quantity       397924 non-null int64\n",
      "InvoiceDate    397924 non-null datetime64[ns]\n",
      "UnitPrice      397924 non-null float64\n",
      "CustomerID     397924 non-null object\n",
      "Country        397924 non-null object\n",
      "TotalPrice     397924 non-null float64\n",
      "dtypes: datetime64[ns](1), float64(2), int64(1), object(5)\n",
      "memory usage: 30.4+ MB\n"
     ]
    },
    {
     "name": "stderr",
     "output_type": "stream",
     "text": [
      "/Users/nus/Desktop/aiap_2.0_unsuperv_filled/src/utils.py:23: SettingWithCopyWarning: \n",
      "A value is trying to be set on a copy of a slice from a DataFrame.\n",
      "Try using .loc[row_indexer,col_indexer] = value instead\n",
      "\n",
      "See the caveats in the documentation: http://pandas.pydata.org/pandas-docs/stable/indexing.html#indexing-view-versus-copy\n",
      "  data['CustomerID'] = data['CustomerID'].str.slice(0,id_length-2)\n"
     ]
    }
   ],
   "source": [
    "df = preprocess.clean_ecommerce(df)\n",
    "df.info()"
   ]
  },
  {
   "cell_type": "code",
   "execution_count": 17,
   "metadata": {},
   "outputs": [],
   "source": [
    "df.to_csv('data/derived/data_cleaned.csv')"
   ]
  },
  {
   "cell_type": "markdown",
   "metadata": {},
   "source": [
    "### Feature Engineering iteration #1 \n",
    "\n",
    "Inside the dataset, each row contains information about an ecommerce transation. However, we want to cluster the data by customers, which means each row should instead contain information about a customer. \n",
    "\n",
    "1. Reshape the data to follow the format below: \n",
    "![alt text](customer.png)\n",
    "\n",
    "The dataframe should have these columns: `['NoOfInvoices', 'NoOfUniqueItems', 'QuantityPerInvoice', 'TotalQuantity', 'UniqueItemsPerInvoice','UnitPriceMean','UnitPriceStd']` \n",
    "2. Save this dataset as an intermediate dataset "
   ]
  },
  {
   "cell_type": "code",
   "execution_count": 14,
   "metadata": {},
   "outputs": [],
   "source": [
    "def create_customer_data(data):\n",
    "        \"\"\"\n",
    "        input df : clean Kaggle ecommerce dataframe\n",
    "        output df: DataFrame with customers as rows\n",
    "                    suitable for clustering\n",
    "        \"\"\"\n",
    "        NoOfInvoices = data.groupby(['CustomerID'])['InvoiceNo'].nunique()\n",
    "        NoOfUniqueItems = data.groupby(['CustomerID'])['StockCode'].nunique()\n",
    "        QuantityPerInvoice = data.groupby(['CustomerID','InvoiceNo'])['Quantity'].sum()\n",
    "        MeanQuantityPerInvoice = QuantityPerInvoice.groupby(['CustomerID']).mean()\n",
    "        SpendingPerInvoice = data.groupby(['CustomerID','InvoiceNo'])['TotalPrice'].sum()\n",
    "        MeanSpendingPerInvoice = SpendingPerInvoice.groupby(['CustomerID']).mean()\n",
    "        UniqueItemsPerInvoice = data.groupby(['CustomerID', 'InvoiceNo'])['StockCode'].nunique()\n",
    "        MeanUniqueItemsPerInvoice = UniqueItemsPerInvoice.groupby(['CustomerID']).mean()\n",
    "        UnitPriceMean = data.groupby(['CustomerID'])['UnitPrice'].mean()\n",
    "        UnitPriceStd = data.groupby(['CustomerID'])['UnitPrice'].std()\n",
    "        TotalQuantity = data.groupby(['CustomerID'])['Quantity'].sum()\n",
    "        customer = pd.DataFrame({'NoOfInvoices':NoOfInvoices, 'NoOfUniqueItems':NoOfUniqueItems, \n",
    "                            'MeanQuantityPerInvoice':MeanQuantityPerInvoice,'MeanSpendingPerInvoice':MeanSpendingPerInvoice,\n",
    "                            'MeanUniqueItemsPerInvoice':MeanUniqueItemsPerInvoice,'UnitPriceMean':UnitPriceMean, 'UnitPriceStd':UnitPriceStd,\n",
    "                                 'TotalQuantity':TotalQuantity})\n",
    "        customer = customer[~customer['UnitPriceStd'].isnull()]\n",
    "        return customer"
   ]
  },
  {
   "cell_type": "code",
   "execution_count": 15,
   "metadata": {},
   "outputs": [
    {
     "data": {
      "text/html": [
       "<div>\n",
       "<style scoped>\n",
       "    .dataframe tbody tr th:only-of-type {\n",
       "        vertical-align: middle;\n",
       "    }\n",
       "\n",
       "    .dataframe tbody tr th {\n",
       "        vertical-align: top;\n",
       "    }\n",
       "\n",
       "    .dataframe thead th {\n",
       "        text-align: right;\n",
       "    }\n",
       "</style>\n",
       "<table border=\"1\" class=\"dataframe\">\n",
       "  <thead>\n",
       "    <tr style=\"text-align: right;\">\n",
       "      <th></th>\n",
       "      <th>NoOfInvoices</th>\n",
       "      <th>NoOfUniqueItems</th>\n",
       "      <th>MeanQuantityPerInvoice</th>\n",
       "      <th>MeanSpendingPerInvoice</th>\n",
       "      <th>MeanUniqueItemsPerInvoice</th>\n",
       "      <th>UnitPriceMean</th>\n",
       "      <th>UnitPriceStd</th>\n",
       "      <th>TotalQuantity</th>\n",
       "    </tr>\n",
       "    <tr>\n",
       "      <th>CustomerID</th>\n",
       "      <th></th>\n",
       "      <th></th>\n",
       "      <th></th>\n",
       "      <th></th>\n",
       "      <th></th>\n",
       "      <th></th>\n",
       "      <th></th>\n",
       "      <th></th>\n",
       "    </tr>\n",
       "  </thead>\n",
       "  <tbody>\n",
       "    <tr>\n",
       "      <th>12347</th>\n",
       "      <td>7</td>\n",
       "      <td>103</td>\n",
       "      <td>351.142857</td>\n",
       "      <td>615.714286</td>\n",
       "      <td>26.000</td>\n",
       "      <td>2.644011</td>\n",
       "      <td>2.255381</td>\n",
       "      <td>2458</td>\n",
       "    </tr>\n",
       "    <tr>\n",
       "      <th>12348</th>\n",
       "      <td>4</td>\n",
       "      <td>22</td>\n",
       "      <td>585.250000</td>\n",
       "      <td>449.310000</td>\n",
       "      <td>6.750</td>\n",
       "      <td>5.764839</td>\n",
       "      <td>13.400323</td>\n",
       "      <td>2341</td>\n",
       "    </tr>\n",
       "    <tr>\n",
       "      <th>12349</th>\n",
       "      <td>1</td>\n",
       "      <td>73</td>\n",
       "      <td>631.000000</td>\n",
       "      <td>1757.550000</td>\n",
       "      <td>73.000</td>\n",
       "      <td>8.289041</td>\n",
       "      <td>35.028021</td>\n",
       "      <td>631</td>\n",
       "    </tr>\n",
       "    <tr>\n",
       "      <th>12350</th>\n",
       "      <td>1</td>\n",
       "      <td>17</td>\n",
       "      <td>197.000000</td>\n",
       "      <td>334.400000</td>\n",
       "      <td>17.000</td>\n",
       "      <td>3.841176</td>\n",
       "      <td>9.334751</td>\n",
       "      <td>197</td>\n",
       "    </tr>\n",
       "    <tr>\n",
       "      <th>12352</th>\n",
       "      <td>8</td>\n",
       "      <td>59</td>\n",
       "      <td>67.000000</td>\n",
       "      <td>313.255000</td>\n",
       "      <td>10.375</td>\n",
       "      <td>15.930706</td>\n",
       "      <td>53.706324</td>\n",
       "      <td>536</td>\n",
       "    </tr>\n",
       "  </tbody>\n",
       "</table>\n",
       "</div>"
      ],
      "text/plain": [
       "            NoOfInvoices  NoOfUniqueItems  MeanQuantityPerInvoice  \\\n",
       "CustomerID                                                          \n",
       "12347                  7              103              351.142857   \n",
       "12348                  4               22              585.250000   \n",
       "12349                  1               73              631.000000   \n",
       "12350                  1               17              197.000000   \n",
       "12352                  8               59               67.000000   \n",
       "\n",
       "            MeanSpendingPerInvoice  MeanUniqueItemsPerInvoice  UnitPriceMean  \\\n",
       "CustomerID                                                                     \n",
       "12347                   615.714286                     26.000       2.644011   \n",
       "12348                   449.310000                      6.750       5.764839   \n",
       "12349                  1757.550000                     73.000       8.289041   \n",
       "12350                   334.400000                     17.000       3.841176   \n",
       "12352                   313.255000                     10.375      15.930706   \n",
       "\n",
       "            UnitPriceStd  TotalQuantity  \n",
       "CustomerID                               \n",
       "12347           2.255381           2458  \n",
       "12348          13.400323           2341  \n",
       "12349          35.028021            631  \n",
       "12350           9.334751            197  \n",
       "12352          53.706324            536  "
      ]
     },
     "execution_count": 15,
     "metadata": {},
     "output_type": "execute_result"
    }
   ],
   "source": [
    "customer = create_customer_data(df)\n",
    "customer.head()"
   ]
  },
  {
   "cell_type": "code",
   "execution_count": 18,
   "metadata": {},
   "outputs": [],
   "source": [
    "customer.to_csv('data/derived/customer.csv')"
   ]
  },
  {
   "cell_type": "markdown",
   "metadata": {},
   "source": [
    "### Hierarchical clustering iteration #1 [reference pg 520](https://web.stanford.edu/~hastie/Papers/ESLII.pdf)\n",
    "\n",
    "1. Implement any more preprocessing or visualisation steps you feel are necessary to understand how you might build meaningful clusters from the data. \n",
    "2. Apply hierarchical clustering to the dataset. \n",
    "2. Experiment with different linkage algorithms. Visualise the resulting trees for average linkage, complete linkage and single linkage side-by-side. Which linkage algorithm works best? \n",
    "3. List two ways to improve the clustering and implement at least one. Track the results of the first iteration and second iteration (whether with Excel, TextEdit or within this notebook itself). \n",
    "4. Describe the clusters you selected and evaluate whether or not they form meaningful segments. "
   ]
  },
  {
   "cell_type": "code",
   "execution_count": 20,
   "metadata": {},
   "outputs": [
    {
     "data": {
      "text/html": [
       "<div>\n",
       "<style scoped>\n",
       "    .dataframe tbody tr th:only-of-type {\n",
       "        vertical-align: middle;\n",
       "    }\n",
       "\n",
       "    .dataframe tbody tr th {\n",
       "        vertical-align: top;\n",
       "    }\n",
       "\n",
       "    .dataframe thead th {\n",
       "        text-align: right;\n",
       "    }\n",
       "</style>\n",
       "<table border=\"1\" class=\"dataframe\">\n",
       "  <thead>\n",
       "    <tr style=\"text-align: right;\">\n",
       "      <th></th>\n",
       "      <th>NoOfInvoices</th>\n",
       "      <th>NoOfUniqueItems</th>\n",
       "      <th>MeanQuantityPerInvoice</th>\n",
       "      <th>MeanSpendingPerInvoice</th>\n",
       "      <th>MeanUniqueItemsPerInvoice</th>\n",
       "      <th>UnitPriceMean</th>\n",
       "      <th>UnitPriceStd</th>\n",
       "      <th>TotalQuantity</th>\n",
       "    </tr>\n",
       "    <tr>\n",
       "      <th>CustomerID</th>\n",
       "      <th></th>\n",
       "      <th></th>\n",
       "      <th></th>\n",
       "      <th></th>\n",
       "      <th></th>\n",
       "      <th></th>\n",
       "      <th></th>\n",
       "      <th></th>\n",
       "    </tr>\n",
       "  </thead>\n",
       "  <tbody>\n",
       "    <tr>\n",
       "      <th>12347</th>\n",
       "      <td>0.344549</td>\n",
       "      <td>0.472431</td>\n",
       "      <td>0.167434</td>\n",
       "      <td>0.154502</td>\n",
       "      <td>0.217565</td>\n",
       "      <td>-0.097125</td>\n",
       "      <td>-0.113427</td>\n",
       "      <td>0.255066</td>\n",
       "    </tr>\n",
       "    <tr>\n",
       "      <th>12348</th>\n",
       "      <td>-0.042174</td>\n",
       "      <td>-0.472664</td>\n",
       "      <td>0.511017</td>\n",
       "      <td>0.033545</td>\n",
       "      <td>-0.793114</td>\n",
       "      <td>0.188785</td>\n",
       "      <td>0.477738</td>\n",
       "      <td>0.231516</td>\n",
       "    </tr>\n",
       "    <tr>\n",
       "      <th>12349</th>\n",
       "      <td>-0.428896</td>\n",
       "      <td>0.122396</td>\n",
       "      <td>0.578161</td>\n",
       "      <td>0.984487</td>\n",
       "      <td>2.685196</td>\n",
       "      <td>0.420035</td>\n",
       "      <td>1.624943</td>\n",
       "      <td>-0.112674</td>\n",
       "    </tr>\n",
       "    <tr>\n",
       "      <th>12350</th>\n",
       "      <td>-0.428896</td>\n",
       "      <td>-0.531003</td>\n",
       "      <td>-0.058790</td>\n",
       "      <td>-0.049982</td>\n",
       "      <td>-0.254961</td>\n",
       "      <td>0.012552</td>\n",
       "      <td>0.262087</td>\n",
       "      <td>-0.200029</td>\n",
       "    </tr>\n",
       "    <tr>\n",
       "      <th>12352</th>\n",
       "      <td>0.473456</td>\n",
       "      <td>-0.040954</td>\n",
       "      <td>-0.249582</td>\n",
       "      <td>-0.065352</td>\n",
       "      <td>-0.602792</td>\n",
       "      <td>1.120114</td>\n",
       "      <td>2.615702</td>\n",
       "      <td>-0.131795</td>\n",
       "    </tr>\n",
       "  </tbody>\n",
       "</table>\n",
       "</div>"
      ],
      "text/plain": [
       "            NoOfInvoices  NoOfUniqueItems  MeanQuantityPerInvoice  \\\n",
       "CustomerID                                                          \n",
       "12347           0.344549         0.472431                0.167434   \n",
       "12348          -0.042174        -0.472664                0.511017   \n",
       "12349          -0.428896         0.122396                0.578161   \n",
       "12350          -0.428896        -0.531003               -0.058790   \n",
       "12352           0.473456        -0.040954               -0.249582   \n",
       "\n",
       "            MeanSpendingPerInvoice  MeanUniqueItemsPerInvoice  UnitPriceMean  \\\n",
       "CustomerID                                                                     \n",
       "12347                     0.154502                   0.217565      -0.097125   \n",
       "12348                     0.033545                  -0.793114       0.188785   \n",
       "12349                     0.984487                   2.685196       0.420035   \n",
       "12350                    -0.049982                  -0.254961       0.012552   \n",
       "12352                    -0.065352                  -0.602792       1.120114   \n",
       "\n",
       "            UnitPriceStd  TotalQuantity  \n",
       "CustomerID                               \n",
       "12347          -0.113427       0.255066  \n",
       "12348           0.477738       0.231516  \n",
       "12349           1.624943      -0.112674  \n",
       "12350           0.262087      -0.200029  \n",
       "12352           2.615702      -0.131795  "
      ]
     },
     "execution_count": 20,
     "metadata": {},
     "output_type": "execute_result"
    }
   ],
   "source": [
    "# Standardise data\n",
    "from sklearn.preprocessing import StandardScaler\n",
    "scale = StandardScaler()\n",
    "customer_norm = scale.fit_transform(customer)\n",
    "customer_norm = pd.DataFrame(customer_norm, columns=customer.columns, index=customer.index)\n",
    "customer_norm.head()"
   ]
  },
  {
   "cell_type": "code",
   "execution_count": 22,
   "metadata": {},
   "outputs": [],
   "source": [
    "customer_norm.to_csv('data/derived/customer_norm.csv')"
   ]
  },
  {
   "cell_type": "code",
   "execution_count": 53,
   "metadata": {},
   "outputs": [],
   "source": [
    "import seaborn as sns \n",
    "import matplotlib.pyplot as plt \n",
    "%matplotlib inline\n",
    "#sns.pairplot(customer_norm)"
   ]
  },
  {
   "cell_type": "code",
   "execution_count": 39,
   "metadata": {},
   "outputs": [],
   "source": [
    "from scipy.cluster.hierarchy import dendrogram, linkage\n",
    "\n",
    "complete = linkage(customer_norm, \"complete\")\n",
    "average = linkage(customer_norm, \"average\")\n",
    "single = linkage(customer_norm, \"single\")"
   ]
  },
  {
   "cell_type": "code",
   "execution_count": 49,
   "metadata": {},
   "outputs": [
    {
     "data": {
      "image/png": "[encoded data removed]",
      "text/plain": [
       "<matplotlib.figure.Figure at 0x1a3b71eba8>"
      ]
     },
     "metadata": {},
     "output_type": "display_data"
    }
   ],
   "source": [
    "fig, ax = plt.subplots(figsize=(15,5))\n",
    "ax = dendrogram(complete)\n",
    "plt.show()"
   ]
  },
  {
   "cell_type": "code",
   "execution_count": 55,
   "metadata": {},
   "outputs": [
    {
     "data": {
      "image/png": "[encoded data removed]",
      "text/plain": [
       "<matplotlib.figure.Figure at 0x1a39fdacc0>"
      ]
     },
     "metadata": {},
     "output_type": "display_data"
    }
   ],
   "source": [
    "fig, ax = plt.subplots(figsize=(10,20))\n",
    "ax = dendrogram(average)\n",
    "plt.show()"
   ]
  },
  {
   "cell_type": "code",
   "execution_count": 57,
   "metadata": {},
   "outputs": [
    {
     "data": {
      "image/png": "[encoded data removed]",
      "text/plain": [
       "<matplotlib.figure.Figure at 0x1a3a009b70>"
      ]
     },
     "metadata": {},
     "output_type": "display_data"
    }
   ],
   "source": [
    "fig, ax = plt.subplots(figsize=(15,5))\n",
    "ax = dendrogram(single)\n",
    "plt.show()"
   ]
  },
  {
   "cell_type": "markdown",
   "metadata": {},
   "source": [
    "### K-means and GMM Clustering iteration #1 [reference pg 509](https://web.stanford.edu/~hastie/Papers/ESLII.pdf)\n",
    "Apart from hierarchical clustering, we can also apply KMeans and Gaussian Mixture Models (GMM) on the data\n",
    "\n",
    "1. Implement K-means clustering on the data, experimenting with different values of k \n",
    "2. Implement a Gaussian Mixture Model on the data, experimenting with different values for the number of components.  \n",
    "3. Visualise how well K-means and GMMs succeed at separating subgroups in the data\n",
    "4. List two ways to improve the clustering and implement at least one. \n",
    "5. Describe the clusters and evaluate whether or not they form meaningful segments. "
   ]
  },
  {
   "cell_type": "code",
   "execution_count": 106,
   "metadata": {},
   "outputs": [],
   "source": [
    "import numpy as np\n",
    "from sklearn.cluster import KMeans\n",
    "from sklearn.mixture import GaussianMixture\n",
    "from sklearn.metrics import silhouette_score\n",
    "\n",
    "customer_km_sil = np.empty(10)\n",
    "customer_gmm_sil = np.empty(10)\n",
    "for i in range(2,11):\n",
    "    km = KMeans(n_clusters=i)\n",
    "    gmm = GaussianMixture(n_components=i, max_iter=1000)\n",
    "    customer_km = km.fit(customer_norm)\n",
    "    customer_km_sil[i-2] = silhouette_score(customer_norm, customer_km.labels_)    \n",
    "    customer_gmm = gmm.fit(customer_norm)\n",
    "    customer_gmm_sil[i-2] = silhouette_score(customer_norm, customer_gmm.predict(customer_norm))"
   ]
  },
  {
   "cell_type": "code",
   "execution_count": 112,
   "metadata": {},
   "outputs": [
    {
     "name": "stdout",
     "output_type": "stream",
     "text": [
      "<class 'pandas.core.frame.DataFrame'>\n",
      "Index: 4267 entries, 12347 to 18287\n",
      "Data columns (total 8 columns):\n",
      "NoOfInvoices                 4267 non-null float64\n",
      "NoOfUniqueItems              4267 non-null float64\n",
      "MeanQuantityPerInvoice       4267 non-null float64\n",
      "MeanSpendingPerInvoice       4267 non-null float64\n",
      "MeanUniqueItemsPerInvoice    4267 non-null float64\n",
      "UnitPriceMean                4267 non-null float64\n",
      "UnitPriceStd                 4267 non-null float64\n",
      "TotalQuantity                4267 non-null float64\n",
      "dtypes: float64(8)\n",
      "memory usage: 460.0+ KB\n"
     ]
    }
   ],
   "source": [
    "customer_norm.info()"
   ]
  },
  {
   "cell_type": "markdown",
   "metadata": {},
   "source": [
    "### Outliers \n",
    "\n",
    "1. Do outliers influence the results of your Hierarchical Clustering, K-means and GMM models?  \n",
    "2. Do the outliers themselves form clusters? "
   ]
  },
  {
   "cell_type": "code",
   "execution_count": 136,
   "metadata": {},
   "outputs": [
    {
     "data": {
      "image/png": "[encoded data removed]",
      "text/plain": [
       "<matplotlib.figure.Figure at 0x128c46a20>"
      ]
     },
     "metadata": {},
     "output_type": "display_data"
    }
   ],
   "source": [
    "plt.figure(figsize=(15,5))\n",
    "sns.boxplot(x=\"variable\", y=\"value\", data=pd.melt(customer_norm))\n",
    "plt.show()"
   ]
  },
  {
   "cell_type": "code",
   "execution_count": 139,
   "metadata": {},
   "outputs": [],
   "source": [
    "outliers = np.empty((0,1))\n",
    "for i in range(customer_norm.shape[1]):\n",
    "    temp = customer_norm.iloc[:,i].quantile([0, 0.05, 0.1, 0.25, 0.5, 0.75, 0.9, 0.95, 1])\n",
    "    outliers = np.append(outliers, np.array(customer_norm[customer_norm.iloc[:,i]>temp[0.95]].index))"
   ]
  },
  {
   "cell_type": "code",
   "execution_count": 140,
   "metadata": {},
   "outputs": [
    {
     "data": {
      "text/plain": [
       "959"
      ]
     },
     "execution_count": 140,
     "metadata": {},
     "output_type": "execute_result"
    }
   ],
   "source": [
    "outliers = np.unique(outliers)\n",
    "len(outliers)"
   ]
  },
  {
   "cell_type": "code",
   "execution_count": 141,
   "metadata": {},
   "outputs": [
    {
     "data": {
      "text/plain": [
       "<matplotlib.axes._subplots.AxesSubplot at 0x1a38b9d978>"
      ]
     },
     "execution_count": 141,
     "metadata": {},
     "output_type": "execute_result"
    },
    {
     "data": {
      "image/png": "[encoded data removed]",
      "text/plain": [
       "<matplotlib.figure.Figure at 0x1a38b78438>"
      ]
     },
     "metadata": {},
     "output_type": "display_data"
    }
   ],
   "source": [
    "customer_norm_core = customer_norm[~np.isin(customer_norm.index,outliers)]\n",
    "customer_norm_outlier = customer_norm[np.isin(customer_norm.index,outliers)]\n",
    "plt.figure(figsize=(15,5))\n",
    "#sns.boxplot(x=\"variable\", y=\"value\", data=pd.melt(customer_norm_core))\n",
    "#plt.show()\n",
    "customer_norm_core.boxplot()"
   ]
  },
  {
   "cell_type": "code",
   "execution_count": 142,
   "metadata": {},
   "outputs": [
    {
     "data": {
      "image/png": "[encoded data removed]",
      "text/plain": [
       "<matplotlib.figure.Figure at 0x1a3a2b8470>"
      ]
     },
     "metadata": {},
     "output_type": "display_data"
    }
   ],
   "source": [
    "customer_link = linkage(customer_norm_core, \"average\")\n",
    "plt.figure(figsize=(15,10))\n",
    "dendrogram(customer_link, leaf_font_size=0.1)\n",
    "plt.show()\n"
   ]
  },
  {
   "cell_type": "code",
   "execution_count": 152,
   "metadata": {},
   "outputs": [],
   "source": [
    "for i in range(2,11):\n",
    "    km = KMeans(n_clusters=i, random_state=42)\n",
    "    gmm = GaussianMixture(n_components=i, max_iter=1000)\n",
    "    customer_km = km.fit(customer_norm_core)\n",
    "    customer_km_sil[i-2] = silhouette_score(customer_norm_core, customer_km.labels_)\n",
    "    customer_gmm = gmm.fit(customer_norm_core)\n",
    "    customer_gmm_sil[i-2] = silhouette_score(customer_norm_core, customer_gmm.predict(customer_norm_core))"
   ]
  },
  {
   "cell_type": "code",
   "execution_count": 153,
   "metadata": {},
   "outputs": [
    {
     "data": {
      "text/plain": [
       "[<matplotlib.lines.Line2D at 0x1a43df6b70>]"
      ]
     },
     "execution_count": 153,
     "metadata": {},
     "output_type": "execute_result"
    },
    {
     "data": {
      "image/png": "[encoded data removed]",
      "text/plain": [
       "<matplotlib.figure.Figure at 0x1a3a2814e0>"
      ]
     },
     "metadata": {},
     "output_type": "display_data"
    }
   ],
   "source": [
    "fig = plt.figure()\n",
    "plt.plot(range(0,10), customer_km_sil, 'b-', marker='o', linestyle='-')\n",
    "plt.plot(range(0,10), customer_gmm_sil, 'r-', marker='X', linestyle='--')"
   ]
  },
  {
   "cell_type": "code",
   "execution_count": 154,
   "metadata": {},
   "outputs": [],
   "source": [
    "# choose a value of k=3 for KMeans\n",
    "km = KMeans(n_clusters=3, max_iter=1000)\n",
    "customer_km = km.fit(customer_norm_core)"
   ]
  },
  {
   "cell_type": "code",
   "execution_count": 155,
   "metadata": {},
   "outputs": [
    {
     "data": {
      "text/plain": [
       "2    1990\n",
       "1     754\n",
       "0     564\n",
       "dtype: int64"
      ]
     },
     "execution_count": 155,
     "metadata": {},
     "output_type": "execute_result"
    }
   ],
   "source": [
    "pd.Series(customer_km.labels_).value_counts()"
   ]
  },
  {
   "cell_type": "code",
   "execution_count": 157,
   "metadata": {},
   "outputs": [
    {
     "data": {
      "image/png": "[encoded data removed]",
      "text/plain": [
       "<matplotlib.figure.Figure at 0x1a36cbe128>"
      ]
     },
     "metadata": {},
     "output_type": "display_data"
    }
   ],
   "source": [
    "# centroids cluster close together for some variables but are far apart for other variables. \n",
    "# the variables with centroids further apart are probably more informative variables \n",
    "for i in range(km.n_clusters):\n",
    "    plt.plot(customer_km.cluster_centers_[i,:])"
   ]
  },
  {
   "cell_type": "markdown",
   "metadata": {},
   "source": [
    "### Validating clusters  \n",
    "\n",
    "1. Use at least three techniques to validate that your chosen clusters correspond to meaningful customer segments. You may consider a combination of using visualisations and/or quantitative metrics (refer to Elements of Statistical Learning for some examples)"
   ]
  },
  {
   "cell_type": "markdown",
   "metadata": {},
   "source": [
    "Hierarchical Clustering - cophenetic correlation coefficient measures how well the structure of the tree corresponds to the structure of the data. Labelling tree leaves with feature attributes will also show whether data are clustered meaningfully in feature space.\n",
    "\n",
    "K-Means and GMM - one possibility is to reduce high dimensional data (with cluster labels) to fewer dimensions with PCA, then plotting the data in lower dimensional space and coloring the data by cluster label. \n",
    "\n",
    "There are also many many measures that measure what the optimal number of clusters are.  variance_explained, WCSSE (within-cluster-sum-of-squared-error), dissimilarity, silhouette, distortion_fK, AIC, BIC and Adjusted_Rsquared. This notebook uses silhouette, but here's an example of how distortion_fK is used. \n",
    "\n",
    "![alt text](distort_fK.png)"
   ]
  },
  {
   "cell_type": "markdown",
   "metadata": {},
   "source": [
    "### Model selection\n",
    "\n",
    "1. Explain when it is appropriate to use K-Means, GMM and Hierarchical Clustering \n",
    "2. Which model would you choose for this dataset? "
   ]
  },
  {
   "cell_type": "markdown",
   "metadata": {},
   "source": [
    "`1. K means are good for circular clusters. Variables should be on the same scale otherwise the variable with the larger \n",
    "scale will dominate \n",
    "2. GMMs are useful if clustering boundaries need to be softer \n",
    "3. Hierarchical clustering can show subgroups within the main clusters. lengths of branches also give an indication of distance \n",
    "\n",
    "I would personally go with HClust for the dataset because the dendrogram is interpretable.` "
   ]
  },
  {
   "cell_type": "markdown",
   "metadata": {},
   "source": [
    "### Opening the black box of clustering [reference pg 503](https://web.stanford.edu/~hastie/Papers/ESLII.pdf)\n",
    "\n",
    "1. In your own words, explain the broad idea behind building a proximity matrix to cluster data. (This should also be verbally presented during Monday's presentation). \n",
    "*Sometimes, typing values into MS Excel helps with building intuition"
   ]
  },
  {
   "cell_type": "markdown",
   "metadata": {},
   "source": []
  },
  {
   "cell_type": "markdown",
   "metadata": {},
   "source": [
    "2. In your own words, how would you calculate the disimilarity between objects in a dataset? (This should also be verbally presented during Monday's presentation)"
   ]
  },
  {
   "cell_type": "markdown",
   "metadata": {},
   "source": []
  },
  {
   "cell_type": "markdown",
   "metadata": {},
   "source": [
    "### PCA for Dimensionality Reduction \n",
    "\n",
    "1. Using the dataset that you have pre-processed, construct a pairplot again. How is it different from the a plot of the raw data and what is your interpretation?  \n",
    "2. Apply PCA pre-processed dataset. More information on PCA here [link]\n",
    "3. Create a plot of cumulative explained variance and number of components. How does this inform you about the best number of components to select? \n",
    "4. Create a plot of PC0 against PC1, coloured by the GMM's predictions on the normalised dataset with outliers removed for n_components =7\n",
    "5. How would you connect the Princip"
   ]
  },
  {
   "cell_type": "code",
   "execution_count": null,
   "metadata": {},
   "outputs": [],
   "source": []
  }
 ],
 "metadata": {
  "kernelspec": {
   "display_name": "Python 3",
   "language": "python",
   "name": "python3"
  },
  "language_info": {
   "codemirror_mode": {
    "name": "ipython",
    "version": 3
   },
   "file_extension": ".py",
   "mimetype": "text/x-python",
   "name": "python",
   "nbconvert_exporter": "python",
   "pygments_lexer": "ipython3",
   "version": "3.6.4"
  },
  "toc": {
   "base_numbering": 1,
   "nav_menu": {},
   "number_sections": true,
   "sideBar": true,
   "skip_h1_title": false,
   "title_cell": "Table of Contents",
   "title_sidebar": "Contents",
   "toc_cell": false,
   "toc_position": {},
   "toc_section_display": true,
   "toc_window_display": false
  }
 },
 "nbformat": 4,
 "nbformat_minor": 2
}
