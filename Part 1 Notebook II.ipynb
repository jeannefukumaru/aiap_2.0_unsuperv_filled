{
 "cells": [
  {
   "cell_type": "markdown",
   "metadata": {},
   "source": [
    "# Clustering Case Study 2: Apply Association Rules to the customer segments from Case Study 1 to create a recommendation engine "
   ]
  },
  {
   "cell_type": "markdown",
   "metadata": {},
   "source": [
    "## Overview of Association Rules and the Apriori algorithm behind it \n",
    "\n",
    "Association Rules uncovers which items in a dataset occur together. Within the context of our ecommerce dataset, if customers normally purchase \n",
    "\n",
    "KDNuggets gives a quick overview [here](https://www.kdnuggets.com/2016/04/association-rules-apriori-algorithm-tutorial.html). For a more mathematical overview, see [pg 497 of ESL by Hastie and Tibshirani](https://web.stanford.edu/~hastie/Papers/ESLII.pdf) \n",
    "\n",
    "Association Rules are particularly useful for stock transaction data and provide a good starting point into recommendation engines. "
   ]
  },
  {
   "cell_type": "markdown",
   "metadata": {},
   "source": [
    "## Implementing Association Rules on ecommerce data \n",
    "\n",
    "1. Read in the cleaned dataset you saved in Case Study 1\n",
    "2. This dataset is not ready for Association Rules yet. Therefore, reshape the data so that each row is an invoice number and each column is a product\n",
    "![alt text](stockcode.png)"
   ]
  },
  {
   "cell_type": "code",
   "execution_count": null,
   "metadata": {},
   "outputs": [],
   "source": [
    "# Your code here \n",
    "stock_transaction = ecommerce.groupby(['InvoiceNo', 'StockCode']).size().unstack().fillna(0)\n",
    "for i in range(stock_transaction.shape[1]):\n",
    "    stock_transaction.iloc[:,i][stock_transaction.iloc[:,i]>1] = 1\n",
    "stock_transaction.head()"
   ]
  },
  {
   "cell_type": "code",
   "execution_count": null,
   "metadata": {},
   "outputs": [],
   "source": [
    "temp = ecommerce.groupby(['StockCode', 'Description']).size()\n",
    "stock_map = pd.DataFrame({'code':np.array(temp.index.get_level_values(0)), 'desc':np.array(temp.index.get_level_values(1))})"
   ]
  },
  {
   "cell_type": "code",
   "execution_count": null,
   "metadata": {},
   "outputs": [],
   "source": [
    "print(len(stock_map['code']), len(np.unique(stock_map['code'])))\n"
   ]
  },
  {
   "cell_type": "code",
   "execution_count": null,
   "metadata": {},
   "outputs": [],
   "source": [
    "stock_map1 = stock_map.groupby('code')['desc'].apply(lambda x:x.iloc[0])\n"
   ]
  },
  {
   "cell_type": "code",
   "execution_count": null,
   "metadata": {},
   "outputs": [],
   "source": [
    "stock_transaction = stock_transaction.rename(columns=stock_map1[stock_transaction.columns])\n"
   ]
  },
  {
   "cell_type": "code",
   "execution_count": null,
   "metadata": {},
   "outputs": [],
   "source": [
    "stock_transaction.head()\n"
   ]
  },
  {
   "cell_type": "code",
   "execution_count": null,
   "metadata": {},
   "outputs": [],
   "source": [
    "stock_freq_item = apriori(stock_transaction, min_support=0.02, use_colnames=True)\n",
    "stock_freq_item"
   ]
  },
  {
   "cell_type": "code",
   "execution_count": null,
   "metadata": {},
   "outputs": [],
   "source": [
    "stock_assoc_rules = association_rules(stock_freq_item, metric=\"confidence\", min_threshold=0.3)\n",
    "stock_assoc_rules"
   ]
  },
  {
   "cell_type": "code",
   "execution_count": null,
   "metadata": {},
   "outputs": [],
   "source": []
  },
  {
   "cell_type": "markdown",
   "metadata": {},
   "source": [
    "3. Apply the apriori algorithm on the dataset generated above to get the frequent itemsets. You may find the `mlextend` libary useful\n",
    "4. Apply association rules on the frequent itemsets from 3 to generate confidence, support and lift measures for the data \n",
    "5. What happens when you change the `min_threshold` parameter? "
   ]
  },
  {
   "cell_type": "markdown",
   "metadata": {},
   "source": [
    "### Creating tailored recommendations by applying Association Rules to the customer segments produced from Case Study 1\n",
    "\n",
    "1. In the previous notebook, we created a GMM model that clustered customers into n segments. Apply association rules to each segment from your chosen model. \n",
    "2. Do results for each segment differ from each other? "
   ]
  },
  {
   "cell_type": "code",
   "execution_count": null,
   "metadata": {},
   "outputs": [],
   "source": [
    "# Your code here \n",
    "customer_segment = # read data set output\n",
    "customer_segment.head()\n"
   ]
  },
  {
   "cell_type": "code",
   "execution_count": null,
   "metadata": {},
   "outputs": [],
   "source": [
    "for p in range(max(customer_segment['Segment'])):\n",
    "    selected_customer = customer_segment['CustomerID'][customer_segment['Segment']==p]\n",
    "    selected_customer = list(selected_customer.astype('str'))\n",
    "    ecommerce_filtered = ecommerce[ecommerce['CustomerID'].isin(selected_customer)]\n",
    "    stock_transaction_filtered = ecommerce_filtered.groupby(['InvoiceNo', 'StockCode']).size().unstack().fillna(0)\n",
    "    for i in range(stock_transaction_filtered.shape[1]):\n",
    "        stock_transaction_filtered.iloc[:,i][stock_transaction_filtered.iloc[:,i]>1] = 1\n",
    "    stock_transaction_filtered = stock_transaction_filtered.rename(columns=stock_map1[stock_transaction_filtered.columns])\n",
    "    stock_freq_item_filtered = apriori(stock_transaction_filtered, min_support=0.02, use_colnames=True)\n",
    "    stock_assoc_rules_filtered = association_rules(stock_freq_item_filtered, metric=\"confidence\", min_threshold=0.3)\n",
    "    print(\"Segment\", p, \":\\n\", stock_assoc_rules_filtered.sort_values(['confidence', 'support'], ascending=False).iloc[1:10,:])"
   ]
  }
 ],
 "metadata": {
  "kernelspec": {
   "display_name": "Python 3",
   "language": "python",
   "name": "python3"
  },
  "language_info": {
   "codemirror_mode": {
    "name": "ipython",
    "version": 3
   },
   "file_extension": ".py",
   "mimetype": "text/x-python",
   "name": "python",
   "nbconvert_exporter": "python",
   "pygments_lexer": "ipython3",
   "version": "3.6.4"
  },
  "toc": {
   "base_numbering": 1,
   "nav_menu": {},
   "number_sections": true,
   "sideBar": true,
   "skip_h1_title": false,
   "title_cell": "Table of Contents",
   "title_sidebar": "Contents",
   "toc_cell": false,
   "toc_position": {},
   "toc_section_display": true,
   "toc_window_display": false
  }
 },
 "nbformat": 4,
 "nbformat_minor": 2
}
